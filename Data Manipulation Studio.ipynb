{
 "cells": [
  {
   "cell_type": "markdown",
   "id": "f098e298",
   "metadata": {},
   "source": [
    "# Data Manipulation Studio\n",
    "\n",
    "For this studio, we will revisit our California farmers looking for advice on growing pumpkins. You may have to clean data in the process of data manipulation, so feel free to pull up your notebook from the last class's studio.\n",
    "\n",
    "We will now be focusing our attention on a different region in the United States, the Northeast. If you have not done so already, download the full dataset on [Kaggle](https://www.kaggle.com/usda/a-year-of-pumpkin-prices). When you open it up, you will have 13 CSVs, including the San Francisco and Los Angeles data from the last lesson. The 13 CSVs are each a different terminal market in the United States.\n",
    "\n",
    "## Getting Started\n",
    "\n",
    "Import the CSVs for each of the following cities: Baltimore, Boston, New York, and Philadelphia. Set up a dataframe for each city."
   ]
  },
  {
   "cell_type": "code",
   "execution_count": 5,
   "id": "51e84192",
   "metadata": {},
   "outputs": [],
   "source": [
    "# Import the necessary libraries and CSVs. Make some dataframes!\n"
   ]
  },
  {
   "cell_type": "markdown",
   "id": "1d8977ec",
   "metadata": {},
   "source": [
    "## Clean Your Data\n",
    "\n",
    "In the last lesson, we cleaned the data to related to San Francisco. Pull up your notebook from the last lesson and use your cleaning skills to clean the dataframes as necessary."
   ]
  },
  {
   "cell_type": "code",
   "execution_count": 6,
   "id": "2d36c21d",
   "metadata": {},
   "outputs": [],
   "source": [
    "# Clean your data here!"
   ]
  },
  {
   "cell_type": "markdown",
   "id": "fcfbbfa8",
   "metadata": {},
   "source": [
    "## Merge Your Data\n",
    "\n",
    "Now that you have four clean sets of data, merge all four into one dataframe that represents the entire Northeast region."
   ]
  },
  {
   "cell_type": "code",
   "execution_count": 7,
   "id": "45406707",
   "metadata": {},
   "outputs": [],
   "source": [
    "# Merge the four dataframes into one!"
   ]
  },
  {
   "cell_type": "markdown",
   "id": "c78ed9c9",
   "metadata": {},
   "source": [
    "## Answer Some Questions\n",
    "\n",
    "Use groupby and agg to answer the following two questions:\n",
    "\n",
    "1. How many entries were sold for each type of unit of sale in the Northeast region? In the last lesson, we learned that a unit of sale could be something like a bin or individually. \n",
    "2. What is the average number of pumpkins for each variety that came into terminal markets for the year by region? Pumpkin varieties include Howden and Fairytale pumpkins."
   ]
  },
  {
   "cell_type": "code",
   "execution_count": 8,
   "id": "e90b5440",
   "metadata": {},
   "outputs": [],
   "source": [
    "# Put your code here to find how many sales there were in the Northeast region for each type of unit of sale."
   ]
  },
  {
   "cell_type": "code",
   "execution_count": 9,
   "id": "326f6fb9",
   "metadata": {},
   "outputs": [],
   "source": [
    "# Put your code here to find the average number of pumpkins coming into terminal markets of each variety."
   ]
  },
  {
   "cell_type": "markdown",
   "id": "648917a8",
   "metadata": {},
   "source": [
    "## Bonus Mission\n",
    "\n",
    "Try answering the same questions for the Midwest (Chicago, Detroit, and St. Louis) or the Southeast (Atlanta, Columbia, and Miami) regions."
   ]
  },
  {
   "cell_type": "code",
   "execution_count": 10,
   "id": "7aa2dde1",
   "metadata": {},
   "outputs": [],
   "source": [
    "# Try the bonus mission if you have time!"
   ]
  },
  {
   "cell_type": "code",
   "execution_count": null,
   "id": "283cbc01",
   "metadata": {},
   "outputs": [],
   "source": []
  }
 ],
 "metadata": {
  "kernelspec": {
   "display_name": "Python 3",
   "language": "python",
   "name": "python3"
  },
  "language_info": {
   "codemirror_mode": {
    "name": "ipython",
    "version": 3
   },
   "file_extension": ".py",
   "mimetype": "text/x-python",
   "name": "python",
   "nbconvert_exporter": "python",
   "pygments_lexer": "ipython3",
   "version": "3.8.8"
  }
 },
 "nbformat": 4,
 "nbformat_minor": 5
}
