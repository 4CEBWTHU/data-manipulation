{
 "cells": [
  {
   "cell_type": "markdown",
   "id": "9eb3282b",
   "metadata": {},
   "source": [
    "# Data Manipulation Studio\n",
    "\n",
    "For this studio, we will revisit our California farmers looking for advice on growing pumpkins. You may have to clean data in the process of data manipulation, so feel free to pull up your notebook from the last class's studio.\n",
    "\n",
    "We will now be focusing our attention on a different region in the United States, the Northeast. Download the full dataset on [Kaggle](https://www.kaggle.com/usda/a-year-of-pumpkin-prices). When you open it up, you will have 13 CSVs, including the San Francisco and Los Angeles data. The 13 CSVs are each a different terminal market.\n",
    "\n",
    "## Getting Started\n",
    "\n",
    "Import the following four CSVs and set up dataframes for each one: Baltimore, Boston, New York, and Philly."
   ]
  },
  {
   "cell_type": "code",
   "execution_count": 1,
   "id": "2aa635bf",
   "metadata": {},
   "outputs": [],
   "source": [
    "# Import the necessary libraries and CSVs. Make some dataframes!"
   ]
  },
  {
   "cell_type": "markdown",
   "id": "6ed5e2bc",
   "metadata": {},
   "source": [
    "## Clean Your Data\n",
    "\n",
    "Go through each dataframe and clean anything that is out of place!"
   ]
  },
  {
   "cell_type": "code",
   "execution_count": 2,
   "id": "f7d32086",
   "metadata": {},
   "outputs": [],
   "source": [
    "# Clean your data here!"
   ]
  },
  {
   "cell_type": "markdown",
   "id": "f6c4bfcb",
   "metadata": {},
   "source": [
    "## Merge Your Data\n",
    "\n",
    "Now that you have four clean sets of data, merge all four into one dataframe that represents the entire Northeast region."
   ]
  },
  {
   "cell_type": "code",
   "execution_count": 3,
   "id": "ad848ca9",
   "metadata": {},
   "outputs": [],
   "source": [
    "# Merge the four dataframes into one!"
   ]
  },
  {
   "cell_type": "markdown",
   "id": "04047655",
   "metadata": {},
   "source": [
    "## Answer Some Questions\n",
    "\n",
    "Use groupby and agg to answer the following two questions:\n",
    "1. Test groupby on unit of sale column to sum pumpkins sold by different units per region\n",
    "2. What is the average number of variety of pumpkin that came into terminal markets for the year by region? "
   ]
  },
  {
   "cell_type": "code",
   "execution_count": null,
   "id": "0f22fe50",
   "metadata": {},
   "outputs": [],
   "source": []
  },
  {
   "cell_type": "markdown",
   "id": "53ee0da4",
   "metadata": {},
   "source": [
    "## Bonus Mission\n",
    "\n",
    "Try answering the same questions for the Midwest (Chicago, Detroit, and St. Louis) or the Southeast (Atlanta, Columbia, and Miami)."
   ]
  },
  {
   "cell_type": "code",
   "execution_count": null,
   "id": "9f6adfe4",
   "metadata": {},
   "outputs": [],
   "source": []
  }
 ],
 "metadata": {
  "kernelspec": {
   "display_name": "Python 3",
   "language": "python",
   "name": "python3"
  },
  "language_info": {
   "codemirror_mode": {
    "name": "ipython",
    "version": 3
   },
   "file_extension": ".py",
   "mimetype": "text/x-python",
   "name": "python",
   "nbconvert_exporter": "python",
   "pygments_lexer": "ipython3",
   "version": "3.8.8"
  }
 },
 "nbformat": 4,
 "nbformat_minor": 5
}
